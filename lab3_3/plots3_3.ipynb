{
 "cells": [
  {
   "cell_type": "code",
   "execution_count": 1,
   "id": "9ff2e986-d622-4e80-899b-87294008e87f",
   "metadata": {},
   "outputs": [],
   "source": [
    "import matplotlib.pyplot as plt\n",
    "import numpy as np\n",
    "\n",
    "\n",
    "def draw(l, r, xs, ys, coefs):\n",
    "    fig, ax = plt.subplots(1, 1)\n",
    "    plot_x = np.linspace(l, r, 100)\n",
    "    plot_y = coefs[0] + coefs[1] * plot_x + coefs[2] * plot_x * plot_x\n",
    "    ax.plot(plot_x, plot_y, \"-r\")\n",
    "    ax.scatter(xs, ys)\n",
    "    plt.show()"
   ]
  },
  {
   "cell_type": "markdown",
   "id": "57aff80c-6cbd-4297-bb80-48d662637a72",
   "metadata": {},
   "source": [
    "Точки"
   ]
  },
  {
   "cell_type": "code",
   "execution_count": 2,
   "id": "c886ee2c-08bd-44d6-8a19-741b7e621884",
   "metadata": {},
   "outputs": [],
   "source": [
    "x = [-5.0, -3.0, -1.0, 1.0, 3.0, 5.0]\n",
    "y = [-1.3734, -1.249, -0.7854, 0.7854, 1.249, 1.3734]"
   ]
  },
  {
   "cell_type": "markdown",
   "id": "b13648d2-8f41-4bd9-a9a1-43b76f5dcbc1",
   "metadata": {},
   "source": [
    "Сама функция"
   ]
  },
  {
   "cell_type": "code",
   "execution_count": 3,
   "id": "20036c29-a5e2-4184-929d-0c11ccb84a93",
   "metadata": {},
   "outputs": [
    {
     "data": {
      "image/png": "[encoded data removed]",
      "text/plain": [
       "<Figure size 432x288 with 1 Axes>"
      ]
     },
     "metadata": {
      "needs_background": "light"
     },
     "output_type": "display_data"
    }
   ],
   "source": [
    "coefs = [0.0000, 0.3257, -0.0000]\n",
    "draw(x[0], x[-1], x, y, coefs)"
   ]
  },
  {
   "cell_type": "code",
   "execution_count": null,
   "id": "bb62b82f-85f6-44a6-b8c6-c8aaf81e56c8",
   "metadata": {},
   "outputs": [],
   "source": []
  }
 ],
 "metadata": {
  "kernelspec": {
   "display_name": "Python 3 (ipykernel)",
   "language": "python",
   "name": "python3"
  },
  "language_info": {
   "codemirror_mode": {
    "name": "ipython",
    "version": 3
   },
   "file_extension": ".py",
   "mimetype": "text/x-python",
   "name": "python",
   "nbconvert_exporter": "python",
   "pygments_lexer": "ipython3",
   "version": "3.8.10"
  }
 },
 "nbformat": 4,
 "nbformat_minor": 5
}
