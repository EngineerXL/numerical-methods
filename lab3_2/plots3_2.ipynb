{
 "cells": [
  {
   "cell_type": "code",
   "execution_count": 1,
   "id": "4bbe5f60-621c-4689-93d8-5ff69e460a47",
   "metadata": {},
   "outputs": [],
   "source": [
    "import matplotlib.pyplot as plt\n",
    "import numpy as np\n",
    "\n",
    "\n",
    "def draw(xs, ys, coefs):\n",
    "    fig, ax = plt.subplots(1, 1)\n",
    "    for i in range(1, len(xs)):\n",
    "        plot_x = np.linspace(xs[i - 1], xs[i], 100)\n",
    "        plot_y = (\n",
    "            coefs[i - 1][0]\n",
    "            + coefs[i - 1][1] * (plot_x - x[i - 1])\n",
    "            + coefs[i - 1][2] * (plot_x - x[i - 1]) ** 2\n",
    "            + coefs[i - 1][3] * (plot_x - x[i - 1]) ** 3\n",
    "        )\n",
    "        ax.plot(plot_x, plot_y, \"-r\")\n",
    "    ax.scatter(xs, ys)\n",
    "    plt.show()"
   ]
  },
  {
   "cell_type": "markdown",
   "id": "f059f73d-f005-4b8c-9909-cf1f73618bf4",
   "metadata": {},
   "source": [
    "Точки"
   ]
  },
  {
   "cell_type": "code",
   "execution_count": 2,
   "id": "ace86613-e7bc-4954-ac9a-b7ea4dabff58",
   "metadata": {},
   "outputs": [],
   "source": [
    "x = [-3.0, -1.0, 1.0, 3.0, 5.0]\n",
    "y = [-1.2490, -0.78540, 0.78540, 1.2490, 1.3734]"
   ]
  },
  {
   "cell_type": "markdown",
   "id": "3f7ca178-f5c0-4a0d-9be8-e5990daf585b",
   "metadata": {},
   "source": [
    "Сплайн"
   ]
  },
  {
   "cell_type": "code",
   "execution_count": 3,
   "id": "3e7c9ebc-df65-4811-abf2-450ce5646aa8",
   "metadata": {},
   "outputs": [
    {
     "data": {
      "image/png": "[encoded data removed]",
      "text/plain": [
       "<Figure size 432x288 with 1 Axes>"
      ]
     },
     "metadata": {
      "needs_background": "light"
     },
     "output_type": "display_data"
    }
   ],
   "source": [
    "coefs = []\n",
    "coefs.append([-1.2490, 0.0470, 0.0000, 0.0462])\n",
    "coefs.append([-0.7854, 0.6014, 0.2772, -0.0926])\n",
    "coefs.append([0.7854, 0.5990, -0.2784, 0.0474])\n",
    "coefs.append([1.2490, 0.0542, 0.0060, -0.0010])\n",
    "\n",
    "draw(x, y, coefs)"
   ]
  },
  {
   "cell_type": "code",
   "execution_count": null,
   "id": "4d36aacc-230b-4dc6-a34e-3ad15606c138",
   "metadata": {},
   "outputs": [],
   "source": []
  }
 ],
 "metadata": {
  "kernelspec": {
   "display_name": "Python 3 (ipykernel)",
   "language": "python",
   "name": "python3"
  },
  "language_info": {
   "codemirror_mode": {
    "name": "ipython",
    "version": 3
   },
   "file_extension": ".py",
   "mimetype": "text/x-python",
   "name": "python",
   "nbconvert_exporter": "python",
   "pygments_lexer": "ipython3",
   "version": "3.8.10"
  }
 },
 "nbformat": 4,
 "nbformat_minor": 5
}
