{
 "cells": [
  {
   "cell_type": "code",
   "execution_count": 1,
   "id": "f0010b7c-6396-49ce-96b6-f360b91723bd",
   "metadata": {},
   "outputs": [],
   "source": [
    "import numpy as np\n",
    "import matplotlib.pyplot as plt\n",
    "\n",
    "def draw(xs, ys, coefs):\n",
    "    fig, ax = plt.subplots(1, 1)\n",
    "    plot_x = np.linspace(xs[0], xs[-1], 100)\n",
    "    plot_y = coefs[0] + coefs[1] * plot_x + coefs[2] * plot_x ** 2 + coefs[3] * plot_x ** 3\n",
    "    ax.plot(plot_x, plot_y, \"-r\")\n",
    "    ax.scatter(xs, ys)\n",
    "    plt.show()"
   ]
  },
  {
   "cell_type": "markdown",
   "id": "fa674b47-9013-4f05-aa0e-6615183b22ed",
   "metadata": {},
   "source": [
    "### а"
   ]
  },
  {
   "cell_type": "markdown",
   "id": "c0fe67fa-92f1-4f4f-8cfc-213954cce85a",
   "metadata": {},
   "source": [
    "Точки"
   ]
  },
  {
   "cell_type": "code",
   "execution_count": 2,
   "id": "dcfedd37-6255-4b0b-b618-20a38b50fe63",
   "metadata": {},
   "outputs": [],
   "source": [
    "x = [-3, -1, 1, 3]\n",
    "y = [np.arctan(elem) for elem in x]"
   ]
  },
  {
   "cell_type": "markdown",
   "id": "4566b59f-0f1a-4583-a83c-a1e602f7f77a",
   "metadata": {},
   "source": [
    "Интерполяционный многочлен"
   ]
  },
  {
   "cell_type": "code",
   "execution_count": 3,
   "id": "43e49a8b-c85b-4fc3-95c2-5efcab78cc02",
   "metadata": {},
   "outputs": [
    {
     "data": {
      "image/png": "[encoded data removed]",
      "text/plain": [
       "<Figure size 432x288 with 1 Axes>"
      ]
     },
     "metadata": {
      "needs_background": "light"
     },
     "output_type": "display_data"
    }
   ],
   "source": [
    "coefs = [0, 0.831529, 0, -0.0461312]\n",
    "\n",
    "draw(x, y, coefs)"
   ]
  },
  {
   "cell_type": "markdown",
   "id": "191a8fee-19ec-4534-a645-cd0986862abb",
   "metadata": {},
   "source": [
    "### б"
   ]
  },
  {
   "cell_type": "markdown",
   "id": "ddd2f45f-63d2-4cce-8513-0bb2b8282863",
   "metadata": {},
   "source": [
    "Точки"
   ]
  },
  {
   "cell_type": "code",
   "execution_count": 4,
   "id": "2903440c-b3ff-4a41-bbd3-23a43cc6a281",
   "metadata": {},
   "outputs": [],
   "source": [
    "x = [-3, 0, 1, 3]\n",
    "y = [np.arctan(elem) for elem in x]"
   ]
  },
  {
   "cell_type": "markdown",
   "id": "37fe7c64-3e2f-482e-aae4-339b1d18a04b",
   "metadata": {},
   "source": [
    "Интерполяционный многочлен"
   ]
  },
  {
   "cell_type": "code",
   "execution_count": 5,
   "id": "ecabaf9d-c840-4747-b0f5-5589ed7ecfcc",
   "metadata": {},
   "outputs": [
    {
     "data": {
      "image/png": "[encoded data removed]",
      "text/plain": [
       "<Figure size 432x288 with 1 Axes>"
      ]
     },
     "metadata": {
      "needs_background": "light"
     },
     "output_type": "display_data"
    }
   ],
   "source": [
    "coefs = [0, 0.831529, 0, -0.0461312]\n",
    "\n",
    "draw(x, y, coefs)"
   ]
  },
  {
   "cell_type": "code",
   "execution_count": null,
   "id": "bb4e188a-efeb-4bc5-8958-6bb1298fb929",
   "metadata": {},
   "outputs": [],
   "source": []
  }
 ],
 "metadata": {
  "kernelspec": {
   "display_name": "Python 3 (ipykernel)",
   "language": "python",
   "name": "python3"
  },
  "language_info": {
   "codemirror_mode": {
    "name": "ipython",
    "version": 3
   },
   "file_extension": ".py",
   "mimetype": "text/x-python",
   "name": "python",
   "nbconvert_exporter": "python",
   "pygments_lexer": "ipython3",
   "version": "3.9.7"
  }
 },
 "nbformat": 4,
 "nbformat_minor": 5
}
